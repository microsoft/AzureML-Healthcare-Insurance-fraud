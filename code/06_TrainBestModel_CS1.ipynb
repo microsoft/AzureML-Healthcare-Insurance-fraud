{
  "cells": [
    {
      "cell_type": "markdown",
      "source": [
        "1. Split the raw data into train and validation, so that I can use validation data to create final pipeline and process it there.\n",
        "2. As I didn't save the best model, I will train it once again and save the parameters for final pipeline creation."
      ],
      "metadata": {}
    },
    {
      "cell_type": "code",
      "source": [
        "import time\r\n",
        "\r\n",
        "# Get notebook runtime\r\n",
        "startTime = time.time()"
      ],
      "outputs": [],
      "execution_count": 28,
      "metadata": {
        "jupyter": {
          "source_hidden": false,
          "outputs_hidden": false
        },
        "nteract": {
          "transient": {
            "deleting": false
          }
        }
      }
    },
    {
      "cell_type": "markdown",
      "source": [
        "## Split the Raw Data into train and validation"
      ],
      "metadata": {}
    },
    {
      "cell_type": "code",
      "source": [
        "import numpy as np\n",
        "import pandas as pd\n",
        "import joblib\n",
        "import os"
      ],
      "outputs": [],
      "execution_count": 29,
      "metadata": {}
    },
    {
      "cell_type": "code",
      "source": [
        "# Load the train data into dataframe\n",
        "Provider = pd.read_csv(\"../data/Train-1542865627584.csv\")\n",
        "Beneficiary = pd.read_csv(\"../data/Train_Beneficiarydata-1542865627584.csv\")\n",
        "Inpatient = pd.read_csv(\"../data/Train_Inpatientdata-1542865627584.csv\")\n",
        "Outpatient = pd.read_csv(\"../data/Train_Outpatientdata-1542865627584.csv\")"
      ],
      "outputs": [],
      "execution_count": 30,
      "metadata": {}
    },
    {
      "cell_type": "code",
      "source": [
        "from sklearn.model_selection import train_test_split\n",
        "# split the provider data into train and validation\n",
        "Train_Provider, Validation_Provider = train_test_split(Provider, test_size=0.2, random_state=42, stratify=Provider['PotentialFraud'])\n",
        "Train_Provider = Train_Provider.sort_index(axis=0)\n",
        "Validation_Provider = Validation_Provider.sort_index(axis=0)"
      ],
      "outputs": [],
      "execution_count": 31,
      "metadata": {}
    },
    {
      "cell_type": "code",
      "source": [
        "Train_Provider.head(2)"
      ],
      "outputs": [
        {
          "output_type": "execute_result",
          "execution_count": 32,
          "data": {
            "text/plain": "   Provider PotentialFraud\n0  PRV51001             No\n1  PRV51003            Yes",
            "text/html": "<div>\n<style scoped>\n    .dataframe tbody tr th:only-of-type {\n        vertical-align: middle;\n    }\n\n    .dataframe tbody tr th {\n        vertical-align: top;\n    }\n\n    .dataframe thead th {\n        text-align: right;\n    }\n</style>\n<table border=\"1\" class=\"dataframe\">\n  <thead>\n    <tr style=\"text-align: right;\">\n      <th></th>\n      <th>Provider</th>\n      <th>PotentialFraud</th>\n    </tr>\n  </thead>\n  <tbody>\n    <tr>\n      <th>0</th>\n      <td>PRV51001</td>\n      <td>No</td>\n    </tr>\n    <tr>\n      <th>1</th>\n      <td>PRV51003</td>\n      <td>Yes</td>\n    </tr>\n  </tbody>\n</table>\n</div>"
          },
          "metadata": {}
        }
      ],
      "execution_count": 32,
      "metadata": {}
    },
    {
      "cell_type": "code",
      "source": [
        "Validation_Provider.head(2)"
      ],
      "outputs": [
        {
          "output_type": "execute_result",
          "execution_count": 33,
          "data": {
            "text/plain": "   Provider PotentialFraud\n3  PRV51005            Yes\n5  PRV51008             No",
            "text/html": "<div>\n<style scoped>\n    .dataframe tbody tr th:only-of-type {\n        vertical-align: middle;\n    }\n\n    .dataframe tbody tr th {\n        vertical-align: top;\n    }\n\n    .dataframe thead th {\n        text-align: right;\n    }\n</style>\n<table border=\"1\" class=\"dataframe\">\n  <thead>\n    <tr style=\"text-align: right;\">\n      <th></th>\n      <th>Provider</th>\n      <th>PotentialFraud</th>\n    </tr>\n  </thead>\n  <tbody>\n    <tr>\n      <th>3</th>\n      <td>PRV51005</td>\n      <td>Yes</td>\n    </tr>\n    <tr>\n      <th>5</th>\n      <td>PRV51008</td>\n      <td>No</td>\n    </tr>\n  </tbody>\n</table>\n</div>"
          },
          "metadata": {}
        }
      ],
      "execution_count": 33,
      "metadata": {}
    },
    {
      "cell_type": "code",
      "source": [
        "print(Train_Provider.shape)\n",
        "print(Validation_Provider.shape)"
      ],
      "outputs": [
        {
          "output_type": "stream",
          "name": "stdout",
          "text": "(4328, 2)\n(1082, 2)\n"
        }
      ],
      "execution_count": 34,
      "metadata": {}
    },
    {
      "cell_type": "code",
      "source": [
        "# save the train and validation provider into csv file\n",
        "Train_Provider.to_csv('Train_Provider.csv', index=False)\n",
        "Validation_Provider.to_csv('Validation_Provider.csv', index=False)"
      ],
      "outputs": [],
      "execution_count": 35,
      "metadata": {}
    },
    {
      "cell_type": "markdown",
      "source": [
        "### Create train and validation Inpatient data"
      ],
      "metadata": {}
    },
    {
      "cell_type": "code",
      "source": [
        "common_rows_tr_ip = Inpatient.Provider.isin(Train_Provider.Provider)\n",
        "Train_Inpatient = Inpatient[common_rows_tr_ip]\n",
        "Train_Inpatient = Train_Inpatient.sort_index(axis=0)\n",
        "\n",
        "common_rows_val_ip = Inpatient.Provider.isin(Validation_Provider.Provider)\n",
        "Validation_Inpatient = Inpatient[common_rows_val_ip]\n",
        "Validation_Inpatient = Validation_Inpatient.sort_index(axis=0)"
      ],
      "outputs": [],
      "execution_count": 36,
      "metadata": {}
    },
    {
      "cell_type": "code",
      "source": [
        "Train_Inpatient.head(2)"
      ],
      "outputs": [
        {
          "output_type": "execute_result",
          "execution_count": 37,
          "data": {
            "text/plain": "      BeneID   ClaimID ClaimStartDt  ClaimEndDt  Provider  \\\n0  BENE11001  CLM46614   2009-04-12  2009-04-18  PRV55912   \n1  BENE11001  CLM66048   2009-08-31  2009-09-02  PRV55907   \n\n   InscClaimAmtReimbursed AttendingPhysician OperatingPhysician  \\\n0                   26000          PHY390922                NaN   \n1                    5000          PHY318495          PHY318495   \n\n  OtherPhysician AdmissionDt  ... ClmDiagnosisCode_7  ClmDiagnosisCode_8  \\\n0            NaN  2009-04-12  ...               2724               19889   \n1            NaN  2009-08-31  ...                NaN                 NaN   \n\n  ClmDiagnosisCode_9 ClmDiagnosisCode_10 ClmProcedureCode_1  \\\n0               5849                 NaN                NaN   \n1                NaN                 NaN             7092.0   \n\n  ClmProcedureCode_2 ClmProcedureCode_3 ClmProcedureCode_4 ClmProcedureCode_5  \\\n0                NaN                NaN                NaN                NaN   \n1                NaN                NaN                NaN                NaN   \n\n  ClmProcedureCode_6  \n0                NaN  \n1                NaN  \n\n[2 rows x 30 columns]",
            "text/html": "<div>\n<style scoped>\n    .dataframe tbody tr th:only-of-type {\n        vertical-align: middle;\n    }\n\n    .dataframe tbody tr th {\n        vertical-align: top;\n    }\n\n    .dataframe thead th {\n        text-align: right;\n    }\n</style>\n<table border=\"1\" class=\"dataframe\">\n  <thead>\n    <tr style=\"text-align: right;\">\n      <th></th>\n      <th>BeneID</th>\n      <th>ClaimID</th>\n      <th>ClaimStartDt</th>\n      <th>ClaimEndDt</th>\n      <th>Provider</th>\n      <th>InscClaimAmtReimbursed</th>\n      <th>AttendingPhysician</th>\n      <th>OperatingPhysician</th>\n      <th>OtherPhysician</th>\n      <th>AdmissionDt</th>\n      <th>...</th>\n      <th>ClmDiagnosisCode_7</th>\n      <th>ClmDiagnosisCode_8</th>\n      <th>ClmDiagnosisCode_9</th>\n      <th>ClmDiagnosisCode_10</th>\n      <th>ClmProcedureCode_1</th>\n      <th>ClmProcedureCode_2</th>\n      <th>ClmProcedureCode_3</th>\n      <th>ClmProcedureCode_4</th>\n      <th>ClmProcedureCode_5</th>\n      <th>ClmProcedureCode_6</th>\n    </tr>\n  </thead>\n  <tbody>\n    <tr>\n      <th>0</th>\n      <td>BENE11001</td>\n      <td>CLM46614</td>\n      <td>2009-04-12</td>\n      <td>2009-04-18</td>\n      <td>PRV55912</td>\n      <td>26000</td>\n      <td>PHY390922</td>\n      <td>NaN</td>\n      <td>NaN</td>\n      <td>2009-04-12</td>\n      <td>...</td>\n      <td>2724</td>\n      <td>19889</td>\n      <td>5849</td>\n      <td>NaN</td>\n      <td>NaN</td>\n      <td>NaN</td>\n      <td>NaN</td>\n      <td>NaN</td>\n      <td>NaN</td>\n      <td>NaN</td>\n    </tr>\n    <tr>\n      <th>1</th>\n      <td>BENE11001</td>\n      <td>CLM66048</td>\n      <td>2009-08-31</td>\n      <td>2009-09-02</td>\n      <td>PRV55907</td>\n      <td>5000</td>\n      <td>PHY318495</td>\n      <td>PHY318495</td>\n      <td>NaN</td>\n      <td>2009-08-31</td>\n      <td>...</td>\n      <td>NaN</td>\n      <td>NaN</td>\n      <td>NaN</td>\n      <td>NaN</td>\n      <td>7092.0</td>\n      <td>NaN</td>\n      <td>NaN</td>\n      <td>NaN</td>\n      <td>NaN</td>\n      <td>NaN</td>\n    </tr>\n  </tbody>\n</table>\n<p>2 rows × 30 columns</p>\n</div>"
          },
          "metadata": {}
        }
      ],
      "execution_count": 37,
      "metadata": {}
    },
    {
      "cell_type": "code",
      "source": [
        "Validation_Inpatient.head(2)"
      ],
      "outputs": [
        {
          "output_type": "execute_result",
          "execution_count": 38,
          "data": {
            "text/plain": "      BeneID   ClaimID ClaimStartDt  ClaimEndDt  Provider  \\\n4  BENE11014  CLM63689   2009-08-13  2009-08-30  PRV56614   \n9  BENE11034  CLM31519   2008-12-29  2009-01-05  PRV55215   \n\n   InscClaimAmtReimbursed AttendingPhysician OperatingPhysician  \\\n4                   10000          PHY379376          PHY398258   \n9                   29000          PHY355604          PHY415867   \n\n  OtherPhysician AdmissionDt  ... ClmDiagnosisCode_7  ClmDiagnosisCode_8  \\\n4            NaN  2009-08-13  ...               5119               29620   \n9            NaN  2008-12-29  ...               4019                4111   \n\n  ClmDiagnosisCode_9 ClmDiagnosisCode_10 ClmProcedureCode_1  \\\n4              20300                 NaN             3893.0   \n9               4589                 NaN             3612.0   \n\n  ClmProcedureCode_2 ClmProcedureCode_3 ClmProcedureCode_4 ClmProcedureCode_5  \\\n4                NaN                NaN                NaN                NaN   \n9             4139.0                NaN                NaN                NaN   \n\n  ClmProcedureCode_6  \n4                NaN  \n9                NaN  \n\n[2 rows x 30 columns]",
            "text/html": "<div>\n<style scoped>\n    .dataframe tbody tr th:only-of-type {\n        vertical-align: middle;\n    }\n\n    .dataframe tbody tr th {\n        vertical-align: top;\n    }\n\n    .dataframe thead th {\n        text-align: right;\n    }\n</style>\n<table border=\"1\" class=\"dataframe\">\n  <thead>\n    <tr style=\"text-align: right;\">\n      <th></th>\n      <th>BeneID</th>\n      <th>ClaimID</th>\n      <th>ClaimStartDt</th>\n      <th>ClaimEndDt</th>\n      <th>Provider</th>\n      <th>InscClaimAmtReimbursed</th>\n      <th>AttendingPhysician</th>\n      <th>OperatingPhysician</th>\n      <th>OtherPhysician</th>\n      <th>AdmissionDt</th>\n      <th>...</th>\n      <th>ClmDiagnosisCode_7</th>\n      <th>ClmDiagnosisCode_8</th>\n      <th>ClmDiagnosisCode_9</th>\n      <th>ClmDiagnosisCode_10</th>\n      <th>ClmProcedureCode_1</th>\n      <th>ClmProcedureCode_2</th>\n      <th>ClmProcedureCode_3</th>\n      <th>ClmProcedureCode_4</th>\n      <th>ClmProcedureCode_5</th>\n      <th>ClmProcedureCode_6</th>\n    </tr>\n  </thead>\n  <tbody>\n    <tr>\n      <th>4</th>\n      <td>BENE11014</td>\n      <td>CLM63689</td>\n      <td>2009-08-13</td>\n      <td>2009-08-30</td>\n      <td>PRV56614</td>\n      <td>10000</td>\n      <td>PHY379376</td>\n      <td>PHY398258</td>\n      <td>NaN</td>\n      <td>2009-08-13</td>\n      <td>...</td>\n      <td>5119</td>\n      <td>29620</td>\n      <td>20300</td>\n      <td>NaN</td>\n      <td>3893.0</td>\n      <td>NaN</td>\n      <td>NaN</td>\n      <td>NaN</td>\n      <td>NaN</td>\n      <td>NaN</td>\n    </tr>\n    <tr>\n      <th>9</th>\n      <td>BENE11034</td>\n      <td>CLM31519</td>\n      <td>2008-12-29</td>\n      <td>2009-01-05</td>\n      <td>PRV55215</td>\n      <td>29000</td>\n      <td>PHY355604</td>\n      <td>PHY415867</td>\n      <td>NaN</td>\n      <td>2008-12-29</td>\n      <td>...</td>\n      <td>4019</td>\n      <td>4111</td>\n      <td>4589</td>\n      <td>NaN</td>\n      <td>3612.0</td>\n      <td>4139.0</td>\n      <td>NaN</td>\n      <td>NaN</td>\n      <td>NaN</td>\n      <td>NaN</td>\n    </tr>\n  </tbody>\n</table>\n<p>2 rows × 30 columns</p>\n</div>"
          },
          "metadata": {}
        }
      ],
      "execution_count": 38,
      "metadata": {}
    },
    {
      "cell_type": "code",
      "source": [
        "print(Train_Inpatient.shape)\n",
        "print(Validation_Inpatient.shape)"
      ],
      "outputs": [
        {
          "output_type": "stream",
          "name": "stdout",
          "text": "(31496, 30)\n(8978, 30)\n"
        }
      ],
      "execution_count": 39,
      "metadata": {}
    },
    {
      "cell_type": "code",
      "source": [
        "# save the train and inpatient provider into csv file\n",
        "Train_Inpatient.to_csv('Train_Inpatient.csv', index=False)\n",
        "Validation_Inpatient.to_csv('Validation_Inpatient.csv', index=False)"
      ],
      "outputs": [],
      "execution_count": 40,
      "metadata": {}
    },
    {
      "cell_type": "markdown",
      "source": [
        "### Create train and validation Outpatient data"
      ],
      "metadata": {}
    },
    {
      "cell_type": "code",
      "source": [
        "common_rows_tr_op = Outpatient.Provider.isin(Train_Provider.Provider)\n",
        "Train_Outpatient = Outpatient[common_rows_tr_op]\n",
        "Train_Outpatient = Train_Outpatient.sort_index(axis=0)\n",
        "\n",
        "common_rows_val_op = Outpatient.Provider.isin(Validation_Provider.Provider)\n",
        "Validation_Outpatient = Outpatient[common_rows_val_op]\n",
        "Validation_Outpatient = Validation_Outpatient.sort_index(axis=0)"
      ],
      "outputs": [],
      "execution_count": 41,
      "metadata": {}
    },
    {
      "cell_type": "code",
      "source": [
        "Train_Outpatient.head(2)"
      ],
      "outputs": [
        {
          "output_type": "execute_result",
          "execution_count": 42,
          "data": {
            "text/plain": "      BeneID    ClaimID ClaimStartDt  ClaimEndDt  Provider  \\\n0  BENE11002  CLM624349   2009-10-11  2009-10-11  PRV56011   \n1  BENE11003  CLM189947   2009-02-12  2009-02-12  PRV57610   \n\n   InscClaimAmtReimbursed AttendingPhysician OperatingPhysician  \\\n0                      30          PHY326117                NaN   \n1                      80          PHY362868                NaN   \n\n  OtherPhysician ClmDiagnosisCode_1  ... ClmDiagnosisCode_9  \\\n0            NaN              78943  ...                NaN   \n1            NaN               6115  ...                NaN   \n\n  ClmDiagnosisCode_10 ClmProcedureCode_1 ClmProcedureCode_2  \\\n0                 NaN                NaN                NaN   \n1                 NaN                NaN                NaN   \n\n  ClmProcedureCode_3 ClmProcedureCode_4 ClmProcedureCode_5 ClmProcedureCode_6  \\\n0                NaN                NaN                NaN                NaN   \n1                NaN                NaN                NaN                NaN   \n\n  DeductibleAmtPaid  ClmAdmitDiagnosisCode  \n0                 0                  56409  \n1                 0                  79380  \n\n[2 rows x 27 columns]",
            "text/html": "<div>\n<style scoped>\n    .dataframe tbody tr th:only-of-type {\n        vertical-align: middle;\n    }\n\n    .dataframe tbody tr th {\n        vertical-align: top;\n    }\n\n    .dataframe thead th {\n        text-align: right;\n    }\n</style>\n<table border=\"1\" class=\"dataframe\">\n  <thead>\n    <tr style=\"text-align: right;\">\n      <th></th>\n      <th>BeneID</th>\n      <th>ClaimID</th>\n      <th>ClaimStartDt</th>\n      <th>ClaimEndDt</th>\n      <th>Provider</th>\n      <th>InscClaimAmtReimbursed</th>\n      <th>AttendingPhysician</th>\n      <th>OperatingPhysician</th>\n      <th>OtherPhysician</th>\n      <th>ClmDiagnosisCode_1</th>\n      <th>...</th>\n      <th>ClmDiagnosisCode_9</th>\n      <th>ClmDiagnosisCode_10</th>\n      <th>ClmProcedureCode_1</th>\n      <th>ClmProcedureCode_2</th>\n      <th>ClmProcedureCode_3</th>\n      <th>ClmProcedureCode_4</th>\n      <th>ClmProcedureCode_5</th>\n      <th>ClmProcedureCode_6</th>\n      <th>DeductibleAmtPaid</th>\n      <th>ClmAdmitDiagnosisCode</th>\n    </tr>\n  </thead>\n  <tbody>\n    <tr>\n      <th>0</th>\n      <td>BENE11002</td>\n      <td>CLM624349</td>\n      <td>2009-10-11</td>\n      <td>2009-10-11</td>\n      <td>PRV56011</td>\n      <td>30</td>\n      <td>PHY326117</td>\n      <td>NaN</td>\n      <td>NaN</td>\n      <td>78943</td>\n      <td>...</td>\n      <td>NaN</td>\n      <td>NaN</td>\n      <td>NaN</td>\n      <td>NaN</td>\n      <td>NaN</td>\n      <td>NaN</td>\n      <td>NaN</td>\n      <td>NaN</td>\n      <td>0</td>\n      <td>56409</td>\n    </tr>\n    <tr>\n      <th>1</th>\n      <td>BENE11003</td>\n      <td>CLM189947</td>\n      <td>2009-02-12</td>\n      <td>2009-02-12</td>\n      <td>PRV57610</td>\n      <td>80</td>\n      <td>PHY362868</td>\n      <td>NaN</td>\n      <td>NaN</td>\n      <td>6115</td>\n      <td>...</td>\n      <td>NaN</td>\n      <td>NaN</td>\n      <td>NaN</td>\n      <td>NaN</td>\n      <td>NaN</td>\n      <td>NaN</td>\n      <td>NaN</td>\n      <td>NaN</td>\n      <td>0</td>\n      <td>79380</td>\n    </tr>\n  </tbody>\n</table>\n<p>2 rows × 27 columns</p>\n</div>"
          },
          "metadata": {}
        }
      ],
      "execution_count": 42,
      "metadata": {}
    },
    {
      "cell_type": "code",
      "source": [
        "Validation_Outpatient.head(2)"
      ],
      "outputs": [
        {
          "output_type": "execute_result",
          "execution_count": 43,
          "data": {
            "text/plain": "       BeneID    ClaimID ClaimStartDt  ClaimEndDt  Provider  \\\n21  BENE11005  CLM605760   2009-09-30  2009-10-20  PRV54064   \n33  BENE11011  CLM347780   2009-05-08  2009-05-08  PRV51012   \n\n    InscClaimAmtReimbursed AttendingPhysician OperatingPhysician  \\\n21                      50          PHY419180                NaN   \n33                      50          PHY429635                NaN   \n\n   OtherPhysician ClmDiagnosisCode_1  ... ClmDiagnosisCode_9  \\\n21      PHY419180              71944  ...                NaN   \n33      PHY322331              37500  ...                NaN   \n\n   ClmDiagnosisCode_10 ClmProcedureCode_1 ClmProcedureCode_2  \\\n21                 NaN                NaN                NaN   \n33                 NaN                NaN                NaN   \n\n   ClmProcedureCode_3 ClmProcedureCode_4 ClmProcedureCode_5  \\\n21                NaN                NaN                NaN   \n33                NaN                NaN                NaN   \n\n   ClmProcedureCode_6 DeductibleAmtPaid  ClmAdmitDiagnosisCode  \n21                NaN               200                    NaN  \n33                NaN                 0                  37611  \n\n[2 rows x 27 columns]",
            "text/html": "<div>\n<style scoped>\n    .dataframe tbody tr th:only-of-type {\n        vertical-align: middle;\n    }\n\n    .dataframe tbody tr th {\n        vertical-align: top;\n    }\n\n    .dataframe thead th {\n        text-align: right;\n    }\n</style>\n<table border=\"1\" class=\"dataframe\">\n  <thead>\n    <tr style=\"text-align: right;\">\n      <th></th>\n      <th>BeneID</th>\n      <th>ClaimID</th>\n      <th>ClaimStartDt</th>\n      <th>ClaimEndDt</th>\n      <th>Provider</th>\n      <th>InscClaimAmtReimbursed</th>\n      <th>AttendingPhysician</th>\n      <th>OperatingPhysician</th>\n      <th>OtherPhysician</th>\n      <th>ClmDiagnosisCode_1</th>\n      <th>...</th>\n      <th>ClmDiagnosisCode_9</th>\n      <th>ClmDiagnosisCode_10</th>\n      <th>ClmProcedureCode_1</th>\n      <th>ClmProcedureCode_2</th>\n      <th>ClmProcedureCode_3</th>\n      <th>ClmProcedureCode_4</th>\n      <th>ClmProcedureCode_5</th>\n      <th>ClmProcedureCode_6</th>\n      <th>DeductibleAmtPaid</th>\n      <th>ClmAdmitDiagnosisCode</th>\n    </tr>\n  </thead>\n  <tbody>\n    <tr>\n      <th>21</th>\n      <td>BENE11005</td>\n      <td>CLM605760</td>\n      <td>2009-09-30</td>\n      <td>2009-10-20</td>\n      <td>PRV54064</td>\n      <td>50</td>\n      <td>PHY419180</td>\n      <td>NaN</td>\n      <td>PHY419180</td>\n      <td>71944</td>\n      <td>...</td>\n      <td>NaN</td>\n      <td>NaN</td>\n      <td>NaN</td>\n      <td>NaN</td>\n      <td>NaN</td>\n      <td>NaN</td>\n      <td>NaN</td>\n      <td>NaN</td>\n      <td>200</td>\n      <td>NaN</td>\n    </tr>\n    <tr>\n      <th>33</th>\n      <td>BENE11011</td>\n      <td>CLM347780</td>\n      <td>2009-05-08</td>\n      <td>2009-05-08</td>\n      <td>PRV51012</td>\n      <td>50</td>\n      <td>PHY429635</td>\n      <td>NaN</td>\n      <td>PHY322331</td>\n      <td>37500</td>\n      <td>...</td>\n      <td>NaN</td>\n      <td>NaN</td>\n      <td>NaN</td>\n      <td>NaN</td>\n      <td>NaN</td>\n      <td>NaN</td>\n      <td>NaN</td>\n      <td>NaN</td>\n      <td>0</td>\n      <td>37611</td>\n    </tr>\n  </tbody>\n</table>\n<p>2 rows × 27 columns</p>\n</div>"
          },
          "metadata": {}
        }
      ],
      "execution_count": 43,
      "metadata": {}
    },
    {
      "cell_type": "code",
      "source": [
        "print(Train_Outpatient.shape)\n",
        "print(Validation_Outpatient.shape)"
      ],
      "outputs": [
        {
          "output_type": "stream",
          "name": "stdout",
          "text": "(392939, 27)\n(124798, 27)\n"
        }
      ],
      "execution_count": 44,
      "metadata": {}
    },
    {
      "cell_type": "code",
      "source": [
        "# save the train and outpatient provider into csv file\n",
        "Train_Outpatient.to_csv('Train_Outpatient.csv', index=False)\n",
        "Validation_Outpatient.to_csv('Validation_Outpatient.csv', index=False)"
      ],
      "outputs": [],
      "execution_count": 45,
      "metadata": {}
    },
    {
      "cell_type": "markdown",
      "source": [
        "### Create train and validation Beneficiary data"
      ],
      "metadata": {}
    },
    {
      "cell_type": "code",
      "source": [
        "Train_Outpatient.head(2)"
      ],
      "outputs": [
        {
          "output_type": "execute_result",
          "execution_count": 46,
          "data": {
            "text/plain": "      BeneID    ClaimID ClaimStartDt  ClaimEndDt  Provider  \\\n0  BENE11002  CLM624349   2009-10-11  2009-10-11  PRV56011   \n1  BENE11003  CLM189947   2009-02-12  2009-02-12  PRV57610   \n\n   InscClaimAmtReimbursed AttendingPhysician OperatingPhysician  \\\n0                      30          PHY326117                NaN   \n1                      80          PHY362868                NaN   \n\n  OtherPhysician ClmDiagnosisCode_1  ... ClmDiagnosisCode_9  \\\n0            NaN              78943  ...                NaN   \n1            NaN               6115  ...                NaN   \n\n  ClmDiagnosisCode_10 ClmProcedureCode_1 ClmProcedureCode_2  \\\n0                 NaN                NaN                NaN   \n1                 NaN                NaN                NaN   \n\n  ClmProcedureCode_3 ClmProcedureCode_4 ClmProcedureCode_5 ClmProcedureCode_6  \\\n0                NaN                NaN                NaN                NaN   \n1                NaN                NaN                NaN                NaN   \n\n  DeductibleAmtPaid  ClmAdmitDiagnosisCode  \n0                 0                  56409  \n1                 0                  79380  \n\n[2 rows x 27 columns]",
            "text/html": "<div>\n<style scoped>\n    .dataframe tbody tr th:only-of-type {\n        vertical-align: middle;\n    }\n\n    .dataframe tbody tr th {\n        vertical-align: top;\n    }\n\n    .dataframe thead th {\n        text-align: right;\n    }\n</style>\n<table border=\"1\" class=\"dataframe\">\n  <thead>\n    <tr style=\"text-align: right;\">\n      <th></th>\n      <th>BeneID</th>\n      <th>ClaimID</th>\n      <th>ClaimStartDt</th>\n      <th>ClaimEndDt</th>\n      <th>Provider</th>\n      <th>InscClaimAmtReimbursed</th>\n      <th>AttendingPhysician</th>\n      <th>OperatingPhysician</th>\n      <th>OtherPhysician</th>\n      <th>ClmDiagnosisCode_1</th>\n      <th>...</th>\n      <th>ClmDiagnosisCode_9</th>\n      <th>ClmDiagnosisCode_10</th>\n      <th>ClmProcedureCode_1</th>\n      <th>ClmProcedureCode_2</th>\n      <th>ClmProcedureCode_3</th>\n      <th>ClmProcedureCode_4</th>\n      <th>ClmProcedureCode_5</th>\n      <th>ClmProcedureCode_6</th>\n      <th>DeductibleAmtPaid</th>\n      <th>ClmAdmitDiagnosisCode</th>\n    </tr>\n  </thead>\n  <tbody>\n    <tr>\n      <th>0</th>\n      <td>BENE11002</td>\n      <td>CLM624349</td>\n      <td>2009-10-11</td>\n      <td>2009-10-11</td>\n      <td>PRV56011</td>\n      <td>30</td>\n      <td>PHY326117</td>\n      <td>NaN</td>\n      <td>NaN</td>\n      <td>78943</td>\n      <td>...</td>\n      <td>NaN</td>\n      <td>NaN</td>\n      <td>NaN</td>\n      <td>NaN</td>\n      <td>NaN</td>\n      <td>NaN</td>\n      <td>NaN</td>\n      <td>NaN</td>\n      <td>0</td>\n      <td>56409</td>\n    </tr>\n    <tr>\n      <th>1</th>\n      <td>BENE11003</td>\n      <td>CLM189947</td>\n      <td>2009-02-12</td>\n      <td>2009-02-12</td>\n      <td>PRV57610</td>\n      <td>80</td>\n      <td>PHY362868</td>\n      <td>NaN</td>\n      <td>NaN</td>\n      <td>6115</td>\n      <td>...</td>\n      <td>NaN</td>\n      <td>NaN</td>\n      <td>NaN</td>\n      <td>NaN</td>\n      <td>NaN</td>\n      <td>NaN</td>\n      <td>NaN</td>\n      <td>NaN</td>\n      <td>0</td>\n      <td>79380</td>\n    </tr>\n  </tbody>\n</table>\n<p>2 rows × 27 columns</p>\n</div>"
          },
          "metadata": {}
        }
      ],
      "execution_count": 46,
      "metadata": {}
    },
    {
      "cell_type": "code",
      "source": [
        "bene_tr_ip = list(Train_Inpatient['BeneID'])\n",
        "bene_tr_op = list(Train_Outpatient['BeneID'])\n",
        "bene_tr = set(bene_tr_ip + bene_tr_op)\n",
        "\n",
        "bene_val_ip = list(Validation_Inpatient['BeneID'])\n",
        "bene_val_op = list(Validation_Outpatient['BeneID'])\n",
        "bene_val = set(bene_val_ip + bene_val_op)"
      ],
      "outputs": [],
      "execution_count": 47,
      "metadata": {}
    },
    {
      "cell_type": "code",
      "source": [
        "# get the BeneID associated with train data\n",
        "common_rows_tr_bene = Beneficiary.BeneID.isin(bene_tr)\n",
        "Train_Beneficiary = Beneficiary[common_rows_tr_bene]\n",
        "Train_Beneficiary = Train_Beneficiary.sort_index(axis=0)\n",
        "\n",
        "# get the BeneID associated with test data\n",
        "common_rows_val_op = Beneficiary.BeneID.isin(bene_val)\n",
        "Validation_Beneficiary = Beneficiary[common_rows_val_op]\n",
        "Validation_Beneficiary = Validation_Beneficiary.sort_index(axis=0)"
      ],
      "outputs": [],
      "execution_count": 48,
      "metadata": {}
    },
    {
      "cell_type": "code",
      "source": [
        "Train_Beneficiary.head(2)"
      ],
      "outputs": [
        {
          "output_type": "execute_result",
          "execution_count": 49,
          "data": {
            "text/plain": "      BeneID         DOB  DOD  Gender  Race RenalDiseaseIndicator  State  \\\n0  BENE11001  1943-01-01  NaN       1     1                     0     39   \n1  BENE11002  1936-09-01  NaN       2     1                     0     39   \n\n   County  NoOfMonths_PartACov  NoOfMonths_PartBCov  ...  \\\n0     230                   12                   12  ...   \n1     280                   12                   12  ...   \n\n   ChronicCond_Depression  ChronicCond_Diabetes  ChronicCond_IschemicHeart  \\\n0                       1                     1                          1   \n1                       2                     2                          2   \n\n   ChronicCond_Osteoporasis  ChronicCond_rheumatoidarthritis  \\\n0                         2                                1   \n1                         2                                2   \n\n   ChronicCond_stroke  IPAnnualReimbursementAmt  IPAnnualDeductibleAmt  \\\n0                   1                     36000                   3204   \n1                   2                         0                      0   \n\n   OPAnnualReimbursementAmt  OPAnnualDeductibleAmt  \n0                        60                     70  \n1                        30                     50  \n\n[2 rows x 25 columns]",
            "text/html": "<div>\n<style scoped>\n    .dataframe tbody tr th:only-of-type {\n        vertical-align: middle;\n    }\n\n    .dataframe tbody tr th {\n        vertical-align: top;\n    }\n\n    .dataframe thead th {\n        text-align: right;\n    }\n</style>\n<table border=\"1\" class=\"dataframe\">\n  <thead>\n    <tr style=\"text-align: right;\">\n      <th></th>\n      <th>BeneID</th>\n      <th>DOB</th>\n      <th>DOD</th>\n      <th>Gender</th>\n      <th>Race</th>\n      <th>RenalDiseaseIndicator</th>\n      <th>State</th>\n      <th>County</th>\n      <th>NoOfMonths_PartACov</th>\n      <th>NoOfMonths_PartBCov</th>\n      <th>...</th>\n      <th>ChronicCond_Depression</th>\n      <th>ChronicCond_Diabetes</th>\n      <th>ChronicCond_IschemicHeart</th>\n      <th>ChronicCond_Osteoporasis</th>\n      <th>ChronicCond_rheumatoidarthritis</th>\n      <th>ChronicCond_stroke</th>\n      <th>IPAnnualReimbursementAmt</th>\n      <th>IPAnnualDeductibleAmt</th>\n      <th>OPAnnualReimbursementAmt</th>\n      <th>OPAnnualDeductibleAmt</th>\n    </tr>\n  </thead>\n  <tbody>\n    <tr>\n      <th>0</th>\n      <td>BENE11001</td>\n      <td>1943-01-01</td>\n      <td>NaN</td>\n      <td>1</td>\n      <td>1</td>\n      <td>0</td>\n      <td>39</td>\n      <td>230</td>\n      <td>12</td>\n      <td>12</td>\n      <td>...</td>\n      <td>1</td>\n      <td>1</td>\n      <td>1</td>\n      <td>2</td>\n      <td>1</td>\n      <td>1</td>\n      <td>36000</td>\n      <td>3204</td>\n      <td>60</td>\n      <td>70</td>\n    </tr>\n    <tr>\n      <th>1</th>\n      <td>BENE11002</td>\n      <td>1936-09-01</td>\n      <td>NaN</td>\n      <td>2</td>\n      <td>1</td>\n      <td>0</td>\n      <td>39</td>\n      <td>280</td>\n      <td>12</td>\n      <td>12</td>\n      <td>...</td>\n      <td>2</td>\n      <td>2</td>\n      <td>2</td>\n      <td>2</td>\n      <td>2</td>\n      <td>2</td>\n      <td>0</td>\n      <td>0</td>\n      <td>30</td>\n      <td>50</td>\n    </tr>\n  </tbody>\n</table>\n<p>2 rows × 25 columns</p>\n</div>"
          },
          "metadata": {}
        }
      ],
      "execution_count": 49,
      "metadata": {}
    },
    {
      "cell_type": "code",
      "source": [
        "Validation_Beneficiary.head(2)"
      ],
      "outputs": [
        {
          "output_type": "execute_result",
          "execution_count": 50,
          "data": {
            "text/plain": "       BeneID         DOB  DOD  Gender  Race RenalDiseaseIndicator  State  \\\n4   BENE11005  1935-09-01  NaN       1     1                     0     24   \n10  BENE11011  1914-03-01  NaN       2     2                     0      1   \n\n    County  NoOfMonths_PartACov  NoOfMonths_PartBCov  ...  \\\n4      680                   12                   12  ...   \n10     360                   12                   12  ...   \n\n    ChronicCond_Depression  ChronicCond_Diabetes  ChronicCond_IschemicHeart  \\\n4                        2                     1                          2   \n10                       1                     1                          2   \n\n    ChronicCond_Osteoporasis  ChronicCond_rheumatoidarthritis  \\\n4                          2                                2   \n10                         2                                1   \n\n    ChronicCond_stroke  IPAnnualReimbursementAmt  IPAnnualDeductibleAmt  \\\n4                    2                         0                      0   \n10                   1                      5000                   1068   \n\n    OPAnnualReimbursementAmt  OPAnnualDeductibleAmt  \n4                       1790                   1200  \n10                       250                    320  \n\n[2 rows x 25 columns]",
            "text/html": "<div>\n<style scoped>\n    .dataframe tbody tr th:only-of-type {\n        vertical-align: middle;\n    }\n\n    .dataframe tbody tr th {\n        vertical-align: top;\n    }\n\n    .dataframe thead th {\n        text-align: right;\n    }\n</style>\n<table border=\"1\" class=\"dataframe\">\n  <thead>\n    <tr style=\"text-align: right;\">\n      <th></th>\n      <th>BeneID</th>\n      <th>DOB</th>\n      <th>DOD</th>\n      <th>Gender</th>\n      <th>Race</th>\n      <th>RenalDiseaseIndicator</th>\n      <th>State</th>\n      <th>County</th>\n      <th>NoOfMonths_PartACov</th>\n      <th>NoOfMonths_PartBCov</th>\n      <th>...</th>\n      <th>ChronicCond_Depression</th>\n      <th>ChronicCond_Diabetes</th>\n      <th>ChronicCond_IschemicHeart</th>\n      <th>ChronicCond_Osteoporasis</th>\n      <th>ChronicCond_rheumatoidarthritis</th>\n      <th>ChronicCond_stroke</th>\n      <th>IPAnnualReimbursementAmt</th>\n      <th>IPAnnualDeductibleAmt</th>\n      <th>OPAnnualReimbursementAmt</th>\n      <th>OPAnnualDeductibleAmt</th>\n    </tr>\n  </thead>\n  <tbody>\n    <tr>\n      <th>4</th>\n      <td>BENE11005</td>\n      <td>1935-09-01</td>\n      <td>NaN</td>\n      <td>1</td>\n      <td>1</td>\n      <td>0</td>\n      <td>24</td>\n      <td>680</td>\n      <td>12</td>\n      <td>12</td>\n      <td>...</td>\n      <td>2</td>\n      <td>1</td>\n      <td>2</td>\n      <td>2</td>\n      <td>2</td>\n      <td>2</td>\n      <td>0</td>\n      <td>0</td>\n      <td>1790</td>\n      <td>1200</td>\n    </tr>\n    <tr>\n      <th>10</th>\n      <td>BENE11011</td>\n      <td>1914-03-01</td>\n      <td>NaN</td>\n      <td>2</td>\n      <td>2</td>\n      <td>0</td>\n      <td>1</td>\n      <td>360</td>\n      <td>12</td>\n      <td>12</td>\n      <td>...</td>\n      <td>1</td>\n      <td>1</td>\n      <td>2</td>\n      <td>2</td>\n      <td>1</td>\n      <td>1</td>\n      <td>5000</td>\n      <td>1068</td>\n      <td>250</td>\n      <td>320</td>\n    </tr>\n  </tbody>\n</table>\n<p>2 rows × 25 columns</p>\n</div>"
          },
          "metadata": {}
        }
      ],
      "execution_count": 50,
      "metadata": {}
    },
    {
      "cell_type": "code",
      "source": [
        "print(Train_Beneficiary.shape)\n",
        "print(Validation_Beneficiary.shape)"
      ],
      "outputs": [
        {
          "output_type": "stream",
          "name": "stdout",
          "text": "(124969, 25)\n(61836, 25)\n"
        }
      ],
      "execution_count": 51,
      "metadata": {}
    },
    {
      "cell_type": "code",
      "source": [
        "# save the train and outpatient beneficiary into csv file\n",
        "Train_Beneficiary.to_csv('Train_Beneficiary.csv', index=False)\n",
        "Validation_Beneficiary.to_csv('Validation_Beneficiary.csv', index=False)"
      ],
      "outputs": [],
      "execution_count": 52,
      "metadata": {}
    },
    {
      "cell_type": "code",
      "source": [],
      "outputs": [],
      "execution_count": null,
      "metadata": {}
    },
    {
      "cell_type": "markdown",
      "source": [
        "## Train best model and save parameters for final prediction"
      ],
      "metadata": {}
    },
    {
      "cell_type": "code",
      "source": [
        "from sklearn.linear_model import LogisticRegression\n",
        "from sklearn import svm\n",
        "from sklearn.svm import SVC, LinearSVC\n",
        "from sklearn.naive_bayes import GaussianNB\n",
        "from sklearn.model_selection import GridSearchCV\n",
        "from sklearn.tree import DecisionTreeClassifier\n",
        "from sklearn.model_selection import RandomizedSearchCV\n",
        "from sklearn import metrics\n",
        "from sklearn.metrics import roc_curve, auc , f1_score\n",
        "from sklearn.metrics import confusion_matrix\n",
        "from sklearn.calibration import CalibratedClassifierCV\n",
        "from sklearn.ensemble import RandomForestClassifier\n",
        "import numpy as np\n",
        "import seaborn as sns\n",
        "import matplotlib.pyplot as plt\n",
        "from sklearn.metrics import confusion_matrix\n",
        "from sklearn.model_selection import train_test_split\n",
        "from xgboost import XGBClassifier\n",
        "import random"
      ],
      "outputs": [],
      "execution_count": 53,
      "metadata": {}
    },
    {
      "cell_type": "code",
      "source": [
        "# Read data from stored csv files\n",
        "import pandas as pd\n",
        "Final_Dataset_Provider_Train = pd.read_csv('../output/Final_Train.csv')\n",
        "Final_Dataset_Provider_Train = Final_Dataset_Provider_Train.drop(columns=['Unnamed: 0', 'Unnamed: 0.1'], axis=1, errors='ignore')"
      ],
      "outputs": [],
      "execution_count": 54,
      "metadata": {}
    },
    {
      "cell_type": "code",
      "source": [
        "# Split your whole data into train and test(80-20)\n",
        "from sklearn.model_selection import train_test_split\n",
        "Final_Dataset_Provider_Tr, Final_Dataset_Provider_val = train_test_split(Final_Dataset_Provider_Train, test_size=0.2,\n",
        "                               random_state=42,stratify=Final_Dataset_Provider_Train['PotentialFraud'])\n",
        "Final_Dataset_Provider_Tr.shape, Final_Dataset_Provider_val.shape"
      ],
      "outputs": [
        {
          "output_type": "execute_result",
          "execution_count": 55,
          "data": {
            "text/plain": "((4328, 247), (1082, 247))"
          },
          "metadata": {}
        }
      ],
      "execution_count": 55,
      "metadata": {}
    },
    {
      "cell_type": "code",
      "source": [
        "# Seperate dependent and independent variables\n",
        "x_train = Final_Dataset_Provider_Tr.drop(axis=1,columns=['Provider','PotentialFraud'], errors='ignore')\n",
        "y_train = Final_Dataset_Provider_Tr['PotentialFraud']\n",
        "x_train.shape, y_train.shape"
      ],
      "outputs": [
        {
          "output_type": "execute_result",
          "execution_count": 56,
          "data": {
            "text/plain": "((4328, 245), (4328,))"
          },
          "metadata": {}
        }
      ],
      "execution_count": 56,
      "metadata": {}
    },
    {
      "cell_type": "code",
      "source": [
        "# Seperate dependent and independent variables\n",
        "x_validation_provider_labels = Final_Dataset_Provider_val[['Provider','PotentialFraud']]\n",
        "x_validation = Final_Dataset_Provider_val.drop(columns=['Provider','PotentialFraud'],axis=1, errors='ignore')\n",
        "y_validation = Final_Dataset_Provider_val['PotentialFraud']\n",
        "x_validation.shape, y_validation.shape"
      ],
      "outputs": [
        {
          "output_type": "execute_result",
          "execution_count": 57,
          "data": {
            "text/plain": "((1082, 245), (1082,))"
          },
          "metadata": {}
        }
      ],
      "execution_count": 57,
      "metadata": {}
    },
    {
      "cell_type": "code",
      "source": [
        "from sklearn.preprocessing import StandardScaler\n",
        "# Standardize the data (train and test)\n",
        "standard_scaler = StandardScaler()\n",
        "standard_scaler.fit(x_train)\n",
        "x_tr = standard_scaler.transform(x_train)\n",
        "x_val = standard_scaler.transform(x_validation)\n",
        "\n",
        "# convert pandas.core.series.Series to numpy.ndarray\n",
        "y_tr = y_train.to_numpy()\n",
        "y_val = y_validation.to_numpy()"
      ],
      "outputs": [],
      "execution_count": 58,
      "metadata": {}
    },
    {
      "cell_type": "code",
      "source": [
        "# Now, in the 80% train set, split the train set into D1 and D2.(50-50)\n",
        "x_d1, x_d2, y_d1, y_d2 = train_test_split(x_tr, y_tr, test_size=0.5,random_state=42,stratify=y_tr)\n",
        "x_d1.shape, x_d2.shape, y_d1.shape, y_d2.shape"
      ],
      "outputs": [
        {
          "output_type": "execute_result",
          "execution_count": 59,
          "data": {
            "text/plain": "((2164, 245), (2164, 245), (2164,), (2164,))"
          },
          "metadata": {}
        }
      ],
      "execution_count": 59,
      "metadata": {}
    },
    {
      "cell_type": "code",
      "source": [
        "from sklearn.metrics import roc_curve, auc , f1_score\n",
        "import matplotlib.pyplot as plt\n",
        "def pred_prob(clf, data):\n",
        "    # predicts the probabability of class label using the model\n",
        "    y_pred = clf.predict_proba(data)[:,1]\n",
        "    return y_pred\n",
        "\n",
        "def draw_roc(train_fpr, train_tpr, test_fpr, test_tpr):\n",
        "    # calculate auc for train and test\n",
        "    train_auc = auc(train_fpr, train_tpr)\n",
        "    test_auc = auc(test_fpr, test_tpr)\n",
        "    plt.plot(train_fpr, train_tpr, label=\"Train AUC =\"+\"{:.4f}\".format(train_auc))\n",
        "    plt.plot(test_fpr, test_tpr, label=\"Test AUC =\"+\"{:.4f}\".format(test_auc))\n",
        "    plt.legend()\n",
        "    plt.xlabel(\"False Positive Rate(FPR)\", size = 14)\n",
        "    plt.ylabel(\"True Positive Rate(TPR)\", size = 14)\n",
        "    plt.title(\"Area Under Curve\", size = 16)\n",
        "    plt.grid(b=True, which='major', color='g', linestyle='-')\n",
        "    plt.show()\n",
        "    \n",
        "def find_best_threshold(threshold, fpr, tpr):\n",
        "    t = threshold[np.argmax(tpr*(1-fpr))]\n",
        "#     print(\"max(tpr*(1-fpr)) = \", max(tpr*(1-fpr)), \"for threshold = \", np.round(t,3))\n",
        "    return t\n",
        "\n",
        "def predict_with_best_t(proba, threshold):\n",
        "    predictions = []\n",
        "    for i in proba:\n",
        "        if i>=threshold:\n",
        "            predictions.append(1)\n",
        "        else:\n",
        "            predictions.append(0)\n",
        "    return predictions"
      ],
      "outputs": [],
      "execution_count": 60,
      "metadata": {}
    },
    {
      "cell_type": "code",
      "source": [
        "from sklearn.metrics import confusion_matrix\n",
        "def draw_confusion_matrix(best_t, x_train, x_test, y_train, y_test, y_train_pred, y_test_pred):\n",
        "    # Confusion matrix for train and test dataset\n",
        "    fig, ax = plt.subplots(1,2, figsize=(20,6))\n",
        "\n",
        "    train_prediction = predict_with_best_t(y_train_pred, best_t)\n",
        "    cm = confusion_matrix(y_train, train_prediction)\n",
        "    sns.heatmap(cm, annot=True, fmt='d', ax=ax[0])\n",
        "    ax[0].set_title('Train Dataset Confusion Matrix', size = 16)\n",
        "    ax[0].set_xlabel(\"Predicted Label\", size = 14)\n",
        "    ax[0].set_ylabel(\"Actual Label\", size = 14)\n",
        "\n",
        "    test_prediction = predict_with_best_t(y_test_pred, best_t)\n",
        "    cm = confusion_matrix(y_test, test_prediction)\n",
        "    sns.heatmap(cm, annot=True, fmt='d', ax=ax[1])\n",
        "    ax[1].set_title('Test Dataset Confusion Matrix', size = 16)\n",
        "    ax[1].set_xlabel(\"Predicted Label\", size = 14)\n",
        "    ax[1].set_ylabel(\"Actual Label\", size = 14)\n",
        "    # plt.grid()\n",
        "    plt.show()\n",
        "    \n",
        "    return train_prediction, test_prediction"
      ],
      "outputs": [],
      "execution_count": 61,
      "metadata": {}
    },
    {
      "cell_type": "code",
      "source": [
        "def validate_model(clf, x_train, x_test, y_train, y_test):\n",
        "    # predict the probability of train data\n",
        "    y_train_pred = pred_prob(clf, x_train)\n",
        "    # predict the probability of test data\n",
        "    y_test_pred = pred_prob(clf, x_test)\n",
        "    # calculate tpr, fpr for diffeent thresholds using roc_curve\n",
        "    train_fpr, train_tpr, tr_thresholds = roc_curve(y_train, y_train_pred)\n",
        "    test_fpr, test_tpr, te_thresholds = roc_curve(y_test, y_test_pred)\n",
        "    \n",
        "    # calculate auc for train and test\n",
        "    train_auc = auc(train_fpr, train_tpr)\n",
        "    print(\"Train AUC = \", train_auc)\n",
        "    test_auc = auc(test_fpr, test_tpr)\n",
        "    print(\"Test AUC = \", test_auc)\n",
        "    \n",
        "    draw_roc(train_fpr, train_tpr, test_fpr, test_tpr)\n",
        "    \n",
        "    best_t = find_best_threshold(tr_thresholds, train_fpr, train_tpr)\n",
        "    \n",
        "    train_prediction, test_prediction = draw_confusion_matrix(best_t, x_train, x_test, y_train, y_test, y_train_pred, y_test_pred)\n",
        "    \n",
        "    train_f1_score = f1_score(y_train, train_prediction)\n",
        "    test_f1_score = f1_score(y_test, test_prediction)\n",
        "    \n",
        "    return test_auc, test_f1_score, best_t"
      ],
      "outputs": [],
      "execution_count": 62,
      "metadata": {}
    },
    {
      "cell_type": "code",
      "source": [
        "# define a function to randomly sample data from dataset\n",
        "# https://numpy.org/doc/stable/reference/random/generated/numpy.random.choice.html\n",
        "import numpy as np\n",
        "def row_col_sampling(x, y):\n",
        "    total_row_count = x.shape[0]\n",
        "    total_col_count = x.shape[1]\n",
        "    # in sampled data i want to keep minimum 40% to maximum 60% number of rows\n",
        "    sampled_row_count_min = round(total_row_count * 0.4)\n",
        "    sampled_row_count_max = round(total_row_count * 0.6)\n",
        "    # in a single dataset the rows should be unique, so setting \"replace=False\"\n",
        "    sampled_row_indices = np.random.choice(total_row_count, np.random.randint(sampled_row_count_min,\n",
        "                                                                              sampled_row_count_max),replace=False)\n",
        "    sampled_row_indices = np.sort(sampled_row_indices)\n",
        "    \n",
        "    sampled_col_count_min = round(total_col_count * 0.4)\n",
        "    sampled_col_count_max = round(total_col_count * 0.6)\n",
        "    sampled_col_indices = np.random.choice(total_col_count, np.random.randint(sampled_col_count_min,\n",
        "                                                                              sampled_col_count_max),replace=False)\n",
        "    sampled_col_indices = np.sort(sampled_col_indices)\n",
        "    # now select the sampled rows and columns from the input data\n",
        "    \n",
        "    #print(len(sampled_row_indices), len(sampled_col_indices))\n",
        "    x_sampled = x[sampled_row_indices[:,None], sampled_col_indices]\n",
        "    y_sampled = y[sampled_row_indices]\n",
        "    #print(x_sampled.shape)\n",
        "    \n",
        "    return x_sampled, y_sampled, sampled_row_indices, sampled_col_indices"
      ],
      "outputs": [],
      "execution_count": 63,
      "metadata": {}
    },
    {
      "cell_type": "code",
      "source": [
        "def create_k_dataset(x_tr, x_te, y_tr, y_te, k):\n",
        "    x_tr_list = []\n",
        "    y_tr_list = []\n",
        "    x_te_list = []\n",
        "    # y_te_list = []\n",
        "    sampled_col_indices_list = []\n",
        "    for i in range(k):\n",
        "        x_sampled, y_sampled, sampled_row_indices, sampled_col_indices = row_col_sampling(x_tr, y_tr)\n",
        "        x_tr_list.append(x_sampled)\n",
        "        y_tr_list.append(y_sampled)\n",
        "        x_te_list.append(x_te[:,sampled_col_indices])\n",
        "        # y_te_list.append(y_te)\n",
        "        sampled_col_indices_list.append(sampled_col_indices)\n",
        "    return x_tr_list, y_tr_list, x_te_list, y_te, sampled_col_indices_list"
      ],
      "outputs": [],
      "execution_count": 64,
      "metadata": {}
    },
    {
      "cell_type": "code",
      "source": [
        "# define a function to train base models\n",
        "def train_model(x, y):\n",
        "    \n",
        "    model_count = 9\n",
        "    # pick a model randomly and train it\n",
        "    m = random.randint(1, model_count)\n",
        "    if m == 1:\n",
        "        model = DecisionTreeClassifier(class_weight = 'balanced', max_depth = 50, min_samples_split = 100)\n",
        "        model = model.fit(x, y)\n",
        "    elif m == 2:\n",
        "        model = LogisticRegression(C=0.001,penalty=\"l2\")\n",
        "        model = model.fit(x, y)\n",
        "    elif m == 3:\n",
        "        model = svm.SVC(kernel='linear')\n",
        "        model = CalibratedClassifierCV(model)\n",
        "        model = model.fit(x, y)\n",
        "    elif m == 4:\n",
        "        model = svm.SVC(kernel='rbf')\n",
        "        model = CalibratedClassifierCV(model)\n",
        "        model = model.fit(x, y)\n",
        "    elif m == 5:\n",
        "        model = svm.SVC(kernel='poly')\n",
        "        model = CalibratedClassifierCV(model)\n",
        "        model = model.fit(x, y)\n",
        "    elif m == 6:\n",
        "        model = svm.SVC(kernel='sigmoid')\n",
        "        model = CalibratedClassifierCV(model)\n",
        "        model = model.fit(x, y)\n",
        "    elif m == 7:\n",
        "        model = XGBClassifier(learning_rate=0.1, max_delta_step=0, max_depth=10)\n",
        "        model = model.fit(x, y)\n",
        "    elif m == 8:\n",
        "        model = GaussianNB()\n",
        "        model = model.fit(x, y)\n",
        "    else:\n",
        "        model = RandomForestClassifier(n_estimators=400, min_samples_split=10, max_features='auto', max_depth=10, random_state=42)\n",
        "        model = model.fit(x, y)\n",
        "        \n",
        "    return(model)"
      ],
      "outputs": [],
      "execution_count": 65,
      "metadata": {}
    },
    {
      "cell_type": "code",
      "source": [
        "def train_k_base_learners(x_tr_list, y_tr_list, x_te_list, k):\n",
        "    # take a empty list to store k models\n",
        "    model_list = []\n",
        "    for i in range(k):\n",
        "        # train using train_model function and store in a list\n",
        "        trained_model = train_model(x_tr_list[i], y_tr_list[i])\n",
        "        model_list.append(trained_model)\n",
        "    \n",
        "    base_model_prediction_list = []\n",
        "    for j in range(k):\n",
        "        # predict and store in a list\n",
        "        y_pred = model_list[j].predict_proba(x_te_list[j])[:,1]\n",
        "        base_model_prediction_list.append(y_pred)\n",
        "\n",
        "    x_tr_meta_model = np.vstack(base_model_prediction_list).transpose()\n",
        "\n",
        "    return x_tr_meta_model, model_list"
      ],
      "outputs": [],
      "execution_count": 66,
      "metadata": {}
    },
    {
      "cell_type": "code",
      "source": [
        "# create 100 sampled dataset\n",
        "k = 100\n",
        "x_tr_list_d1, y_tr_list_d1, x_te_list_d2, y_te_d2, sampled_col_indices_list = create_k_dataset(x_d1, x_d2, y_d1, y_d2, k)\n",
        "# train base learners with each samples dataset\n",
        "x_tr_meta_model, base_model_list = train_k_base_learners(x_tr_list_d1, y_tr_list_d1, x_te_list_d2, k)"
      ],
      "outputs": [
        {
          "output_type": "stream",
          "name": "stderr",
          "text": "/anaconda/envs/azureml_py38/lib/python3.8/site-packages/xgboost/sklearn.py:888: UserWarning: The use of label encoder in XGBClassifier is deprecated and will be removed in a future release. To remove this warning, do the following: 1) Pass option use_label_encoder=False when constructing XGBClassifier object; and 2) Encode your labels (y) as integers starting with 0, i.e. 0, 1, 2, ..., [num_class - 1].\n  warnings.warn(label_encoder_deprecation_msg, UserWarning)\n/anaconda/envs/azureml_py38/lib/python3.8/site-packages/xgboost/sklearn.py:888: UserWarning: The use of label encoder in XGBClassifier is deprecated and will be removed in a future release. To remove this warning, do the following: 1) Pass option use_label_encoder=False when constructing XGBClassifier object; and 2) Encode your labels (y) as integers starting with 0, i.e. 0, 1, 2, ..., [num_class - 1].\n  warnings.warn(label_encoder_deprecation_msg, UserWarning)\n/anaconda/envs/azureml_py38/lib/python3.8/site-packages/xgboost/sklearn.py:888: UserWarning: The use of label encoder in XGBClassifier is deprecated and will be removed in a future release. To remove this warning, do the following: 1) Pass option use_label_encoder=False when constructing XGBClassifier object; and 2) Encode your labels (y) as integers starting with 0, i.e. 0, 1, 2, ..., [num_class - 1].\n  warnings.warn(label_encoder_deprecation_msg, UserWarning)\n/anaconda/envs/azureml_py38/lib/python3.8/site-packages/xgboost/sklearn.py:888: UserWarning: The use of label encoder in XGBClassifier is deprecated and will be removed in a future release. To remove this warning, do the following: 1) Pass option use_label_encoder=False when constructing XGBClassifier object; and 2) Encode your labels (y) as integers starting with 0, i.e. 0, 1, 2, ..., [num_class - 1].\n  warnings.warn(label_encoder_deprecation_msg, UserWarning)\n/anaconda/envs/azureml_py38/lib/python3.8/site-packages/xgboost/sklearn.py:888: UserWarning: The use of label encoder in XGBClassifier is deprecated and will be removed in a future release. To remove this warning, do the following: 1) Pass option use_label_encoder=False when constructing XGBClassifier object; and 2) Encode your labels (y) as integers starting with 0, i.e. 0, 1, 2, ..., [num_class - 1].\n  warnings.warn(label_encoder_deprecation_msg, UserWarning)\n/anaconda/envs/azureml_py38/lib/python3.8/site-packages/xgboost/sklearn.py:888: UserWarning: The use of label encoder in XGBClassifier is deprecated and will be removed in a future release. To remove this warning, do the following: 1) Pass option use_label_encoder=False when constructing XGBClassifier object; and 2) Encode your labels (y) as integers starting with 0, i.e. 0, 1, 2, ..., [num_class - 1].\n  warnings.warn(label_encoder_deprecation_msg, UserWarning)\n/anaconda/envs/azureml_py38/lib/python3.8/site-packages/xgboost/sklearn.py:888: UserWarning: The use of label encoder in XGBClassifier is deprecated and will be removed in a future release. To remove this warning, do the following: 1) Pass option use_label_encoder=False when constructing XGBClassifier object; and 2) Encode your labels (y) as integers starting with 0, i.e. 0, 1, 2, ..., [num_class - 1].\n  warnings.warn(label_encoder_deprecation_msg, UserWarning)\n/anaconda/envs/azureml_py38/lib/python3.8/site-packages/xgboost/sklearn.py:888: UserWarning: The use of label encoder in XGBClassifier is deprecated and will be removed in a future release. To remove this warning, do the following: 1) Pass option use_label_encoder=False when constructing XGBClassifier object; and 2) Encode your labels (y) as integers starting with 0, i.e. 0, 1, 2, ..., [num_class - 1].\n  warnings.warn(label_encoder_deprecation_msg, UserWarning)\n/anaconda/envs/azureml_py38/lib/python3.8/site-packages/xgboost/sklearn.py:888: UserWarning: The use of label encoder in XGBClassifier is deprecated and will be removed in a future release. To remove this warning, do the following: 1) Pass option use_label_encoder=False when constructing XGBClassifier object; and 2) Encode your labels (y) as integers starting with 0, i.e. 0, 1, 2, ..., [num_class - 1].\n  warnings.warn(label_encoder_deprecation_msg, UserWarning)\n"
        },
        {
          "output_type": "stream",
          "name": "stdout",
          "text": "[23:04:41] WARNING: /mnt/xgboost/src/learner.cc:1061: Starting in XGBoost 1.3.0, the default evaluation metric used with the objective 'binary:logistic' was changed from 'error' to 'logloss'. Explicitly set eval_metric if you'd like to restore the old behavior.\n[23:05:00] WARNING: /mnt/xgboost/src/learner.cc:1061: Starting in XGBoost 1.3.0, the default evaluation metric used with the objective 'binary:logistic' was changed from 'error' to 'logloss'. Explicitly set eval_metric if you'd like to restore the old behavior.\n[23:05:24] WARNING: /mnt/xgboost/src/learner.cc:1061: Starting in XGBoost 1.3.0, the default evaluation metric used with the objective 'binary:logistic' was changed from 'error' to 'logloss'. Explicitly set eval_metric if you'd like to restore the old behavior.\n[23:05:43] WARNING: /mnt/xgboost/src/learner.cc:1061: Starting in XGBoost 1.3.0, the default evaluation metric used with the objective 'binary:logistic' was changed from 'error' to 'logloss'. Explicitly set eval_metric if you'd like to restore the old behavior.\n[23:06:09] WARNING: /mnt/xgboost/src/learner.cc:1061: Starting in XGBoost 1.3.0, the default evaluation metric used with the objective 'binary:logistic' was changed from 'error' to 'logloss'. Explicitly set eval_metric if you'd like to restore the old behavior.\n[23:06:30] WARNING: /mnt/xgboost/src/learner.cc:1061: Starting in XGBoost 1.3.0, the default evaluation metric used with the objective 'binary:logistic' was changed from 'error' to 'logloss'. Explicitly set eval_metric if you'd like to restore the old behavior.\n[23:06:46] WARNING: /mnt/xgboost/src/learner.cc:1061: Starting in XGBoost 1.3.0, the default evaluation metric used with the objective 'binary:logistic' was changed from 'error' to 'logloss'. Explicitly set eval_metric if you'd like to restore the old behavior.\n[23:07:00] WARNING: /mnt/xgboost/src/learner.cc:1061: Starting in XGBoost 1.3.0, the default evaluation metric used with the objective 'binary:logistic' was changed from 'error' to 'logloss'. Explicitly set eval_metric if you'd like to restore the old behavior.\n[23:07:25] WARNING: /mnt/xgboost/src/learner.cc:1061: Starting in XGBoost 1.3.0, the default evaluation metric used with the objective 'binary:logistic' was changed from 'error' to 'logloss'. Explicitly set eval_metric if you'd like to restore the old behavior.\n"
        }
      ],
      "execution_count": 67,
      "metadata": {}
    },
    {
      "cell_type": "code",
      "source": [
        "# pass x_val through base learners to generate validation data for meta model\n",
        "pred_data_list = []\n",
        "for i in range(len(base_model_list)):\n",
        "    x_val_base_learner = x_val[:, sampled_col_indices_list[i]]\n",
        "    # print(x_val_.shape)\n",
        "    pred_data = base_model_list[i].predict_proba(x_val_base_learner)[:,1]\n",
        "    # pred_data = model_list[i].predict(x_val_)\n",
        "    pred_data_list.append(pred_data)\n",
        "x_val_meta_model = np.vstack(pred_data_list).transpose()"
      ],
      "outputs": [],
      "execution_count": 68,
      "metadata": {}
    },
    {
      "cell_type": "code",
      "source": [
        "random_forest = RandomForestClassifier(n_estimators=200, min_samples_split=2, max_features='auto', max_depth=5, random_state=42)\n",
        "random_forest.fit(x_tr_meta_model, y_te_d2)"
      ],
      "outputs": [
        {
          "output_type": "execute_result",
          "execution_count": 69,
          "data": {
            "text/plain": "RandomForestClassifier(max_depth=5, n_estimators=200, random_state=42)"
          },
          "metadata": {}
        }
      ],
      "execution_count": 69,
      "metadata": {}
    },
    {
      "cell_type": "code",
      "source": [
        "# Validate RF model\n",
        "test_auc, test_f1_score, best_t = validate_model(random_forest, x_tr_meta_model, x_val_meta_model, y_te_d2, y_val)\n",
        "\n",
        "print(\"Best Threshold = {:.4f}\".format(best_t))\n",
        "print(\"Model AUC is : {:.4f}\".format(test_auc))\n",
        "print(\"Model F1 Score is : {:.4f}\".format(test_f1_score))"
      ],
      "outputs": [
        {
          "output_type": "stream",
          "name": "stdout",
          "text": "Train AUC =  0.9841720410573167\nTest AUC =  0.9621219002634208\n"
        },
        {
          "output_type": "display_data",
          "data": {
            "text/plain": "<Figure size 640x480 with 1 Axes>",
            "image/png": "[encoded data removed]"
          },
          "metadata": {}
        },
        {
          "output_type": "display_data",
          "data": {
            "text/plain": "<Figure size 2000x600 with 4 Axes>",
            "image/png": "[encoded data removed]"
          },
          "metadata": {}
        },
        {
          "output_type": "stream",
          "name": "stdout",
          "text": "Best Threshold = 0.1243\nModel AUC is : 0.9621\nModel F1 Score is : 0.5905\n"
        }
      ],
      "execution_count": 70,
      "metadata": {}
    },
    {
      "cell_type": "code",
      "source": [
        "# save models and required parameters to disk to create the final pipeline\n",
        "joblib.dump(sampled_col_indices_list, '../output/sampled_col_indices_list.pkl')\n",
        "joblib.dump(base_model_list, '../output/base_model_list.pkl')\n",
        "joblib.dump(random_forest, '../output/random_forest.pkl')\n",
        "joblib.dump(best_t, '../output/best_t.pkl')"
      ],
      "outputs": [
        {
          "output_type": "execute_result",
          "execution_count": 71,
          "data": {
            "text/plain": "['../output/best_t.pkl']"
          },
          "metadata": {}
        }
      ],
      "execution_count": 71,
      "metadata": {}
    },
    {
      "cell_type": "code",
      "source": [
        "executionTime = (time.time() - startTime)\r\n",
        "print('Execution time in seconds: ' + str(executionTime))\r\n",
        "print('Execution time in minutes: ' + str(executionTime/60))"
      ],
      "outputs": [
        {
          "output_type": "stream",
          "name": "stdout",
          "text": "Execution time in seconds: 236.70567774772644\nExecution time in minutes: 3.945094629128774\n"
        }
      ],
      "execution_count": 72,
      "metadata": {}
    }
  ],
  "metadata": {
    "kernelspec": {
      "name": "hpfda",
      "language": "python",
      "display_name": "Python 3.8 - AzureML Mod"
    },
    "language_info": {
      "name": "python",
      "version": "3.8.5",
      "mimetype": "text/x-python",
      "codemirror_mode": {
        "name": "ipython",
        "version": 3
      },
      "pygments_lexer": "ipython3",
      "nbconvert_exporter": "python",
      "file_extension": ".py"
    },
    "kernel_info": {
      "name": "hpfda"
    },
    "nteract": {
      "version": "nteract-front-end@1.0.0"
    }
  },
  "nbformat": 4,
  "nbformat_minor": 0
}